{
 "cells": [
  {
   "cell_type": "code",
   "execution_count": null,
   "metadata": {
    "scrolled": true
   },
   "outputs": [],
   "source": [
    "#Copyright 2020 Awase Khirni Syed \n",
    "#University of Waterloo, Geospatial Sensing and Data Intelligence Lab,\n",
    "# feature extraction from topographic maps to render holographic/mixed reality perspectives\n",
    "#https://uwaterloo.ca/geospatial-sensing/people-profiles/category/45\n",
    "import pandas as pd \n",
    "import numpy as np \n",
    "from skimage.io import imread, imshow \n",
    "\n",
    "\n",
    "#reading the image from url \n",
    "#image = imread('F:/topomapdata/_352890_InvertedImage.jpg')\n",
    "image = imread('https://prd-wret.s3.us-west-2.amazonaws.com/assets/palladium/production/s3fs-public/thumbnails/image/_352890_BrowseImage_0.jpg')\n",
    "imshow(image)\n",
    "#checking image shape \n",
    "image.shape, imshow(image)"
   ]
  },
  {
   "cell_type": "code",
   "execution_count": null,
   "metadata": {},
   "outputs": [],
   "source": [
    "# T.C.Lee, R.L.Kashyab and C.-N.Chu, Building skeleton models via 3-d medial surface/axis thinning algorithms. Computer vision, graphics and Image Processing, 56(6), 462-478.1994.\n",
    "#Lee(1994) uses an octree data strucutre to examine a 3x3x3 neighbourhood of a pixel. \n",
    "# iteratively sweeping over the image and removing the pixels at each iteration until the image stops changing. \n",
    "# 1. list of candidate for removal as assembled\n",
    "# 2. pixels from the list are rechecked sequentially, to better preserve connectivty of the image. \n",
    "#applying this to a two dimensional topographic map \n",
    "import matplotlib.pyplot as plt \n",
    "from skimage.morphology import skeletonize \n",
    "from skimage import data\n",
    "\n",
    "#inverting the color of the map \n",
    "\n",
    "#blobs = data.binary_blobs(200, blob_size_fraction=0.02, volume_fraction=0.95, seed=5)\n",
    "myskeleton = skeletonize(image)\n",
    "skeleton_leeway= skeletonize(image, method='lee')\n",
    "\n",
    "fig,axes = plt.subplots(1,3, figsize=(8,4),sharex=True, sharey=True)\n",
    "ax = axes.ravel()\n",
    "\n",
    "ax[0].imshow(image, cmap=plt.cm.gray)\n",
    "ax[0].set_title('original')\n",
    "ax[0].axis('on')\n",
    "\n",
    "ax[1].imshow(myskeleton, cmap=plt.cm.hot)\n",
    "ax[1].set_title('skeletonize')\n",
    "ax[1].axis('on')\n",
    "\n",
    "ax[2].imshow(skeleton_leeway, cmap=plt.cm.pink)\n",
    "ax[2].set_title('skeletonize (Lee 94)')\n",
    "ax[2].axis('on')\n",
    "\n",
    "fig.tight_layout()\n",
    "plt.show()\n"
   ]
  },
  {
   "cell_type": "code",
   "execution_count": null,
   "metadata": {},
   "outputs": [],
   "source": [
    "\n"
   ]
  },
  {
   "cell_type": "code",
   "execution_count": null,
   "metadata": {},
   "outputs": [],
   "source": [
    "#inversion of colors (topographic map)\n",
    "#reading the image from url \n",
    "inversion_image = imread('F:/topomapdata/_352890_InvertedImage.jpg')\n",
    "imshow(inversion_image)\n",
    "#checking image shape \n",
    "image.shape, imshow(inversion_image)\n",
    "\n",
    "#running the skeletonize operation on the inversion image\n",
    "inverted_skeleton = skeletonize(inversion_image)\n",
    "inverted_skeleton_leeway= skeletonize(inversion_image, method='lee')\n",
    "\n",
    "fig,axes = plt.subplots(1,3, figsize=(8,4),sharex=True, sharey=True)\n",
    "ax = axes.ravel()\n",
    "\n",
    "ax[0].imshow(inversion_image, cmap=plt.cm.copper)\n",
    "ax[0].set_title('original')\n",
    "ax[0].axis('on')\n",
    "\n",
    "ax[1].imshow(inverted_skeleton, cmap=plt.cm.pink)\n",
    "ax[1].set_title('skeletonize')\n",
    "ax[1].axis('on')\n",
    "\n",
    "ax[2].imshow(inverted_skeleton_leeway, cmap=plt.cm.hot)\n",
    "ax[2].set_title('skeletonize (Lee 94)')\n",
    "ax[2].axis('on')\n",
    "\n",
    "fig.tight_layout()\n",
    "plt.show()\n"
   ]
  },
  {
   "cell_type": "code",
   "execution_count": null,
   "metadata": {},
   "outputs": [],
   "source": []
  },
  {
   "cell_type": "code",
   "execution_count": null,
   "metadata": {},
   "outputs": [],
   "source": []
  }
 ],
 "metadata": {
  "kernelspec": {
   "display_name": "Python 3",
   "language": "python",
   "name": "python3"
  },
  "language_info": {
   "codemirror_mode": {
    "name": "ipython",
    "version": 3
   },
   "file_extension": ".py",
   "mimetype": "text/x-python",
   "name": "python",
   "nbconvert_exporter": "python",
   "pygments_lexer": "ipython3",
   "version": "3.9.0"
  }
 },
 "nbformat": 4,
 "nbformat_minor": 4
}
